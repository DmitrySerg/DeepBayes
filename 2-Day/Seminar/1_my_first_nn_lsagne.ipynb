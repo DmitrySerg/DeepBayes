{
 "cells": [
  {
   "cell_type": "markdown",
   "metadata": {},
   "source": [
    "<h1 align=\"center\">Theano</h1>"
   ]
  },
  {
   "cell_type": "code",
   "execution_count": 1,
   "metadata": {},
   "outputs": [
    {
     "data": {
      "text/plain": [
       "'/Users/dmitrys/anaconda/bin/python3'"
      ]
     },
     "execution_count": 1,
     "metadata": {},
     "output_type": "execute_result"
    }
   ],
   "source": [
    "import sys\n",
    "sys.executable"
   ]
  },
  {
   "cell_type": "code",
   "execution_count": 2,
   "metadata": {
    "collapsed": true
   },
   "outputs": [],
   "source": [
    "sys.path.append(\"/Users/dmitrys/anaconda/lib/python3.6/site-packages\")"
   ]
  },
  {
   "cell_type": "code",
   "execution_count": 3,
   "metadata": {
    "collapsed": true
   },
   "outputs": [],
   "source": [
    "# #!pip install numpy matplotlib   \n",
    "# !pip install --upgrade https://github.com/Theano/Theano/archive/master.zip\n",
    "# !pip install --upgrade https://github.com/Lasagne/Lasagne/archive/master.zip"
   ]
  },
  {
   "cell_type": "markdown",
   "metadata": {},
   "source": [
    "### Разминка"
   ]
  },
  {
   "cell_type": "code",
   "execution_count": 4,
   "metadata": {},
   "outputs": [
    {
     "name": "stdout",
     "output_type": "stream",
     "text": [
      "Populating the interactive namespace from numpy and matplotlib\n"
     ]
    }
   ],
   "source": [
    "import theano\n",
    "import theano.tensor as T\n",
    "\n",
    "%pylab inline"
   ]
  },
  {
   "cell_type": "markdown",
   "metadata": {},
   "source": [
    "#### будущий параметр функции -- символьная переменная"
   ]
  },
  {
   "cell_type": "code",
   "execution_count": 6,
   "metadata": {
    "collapsed": true
   },
   "outputs": [],
   "source": [
    "N = T.scalar('a dimension', dtype='float32')"
   ]
  },
  {
   "cell_type": "markdown",
   "metadata": {},
   "source": [
    "#### рецепт получения квадрата -- орперации над символьными переменным"
   ]
  },
  {
   "cell_type": "code",
   "execution_count": 7,
   "metadata": {
    "collapsed": true
   },
   "outputs": [],
   "source": [
    "result = T.power(N, 2)"
   ]
  },
  {
   "cell_type": "markdown",
   "metadata": {},
   "source": [
    "#### theano.grad(cost, wrt)"
   ]
  },
  {
   "cell_type": "code",
   "execution_count": 8,
   "metadata": {
    "collapsed": true
   },
   "outputs": [],
   "source": [
    "grad_result = theano.grad(result, N) "
   ]
  },
  {
   "cell_type": "markdown",
   "metadata": {},
   "source": [
    "#### компиляция функции \"получения квадрата\""
   ]
  },
  {
   "cell_type": "code",
   "execution_count": 9,
   "metadata": {
    "collapsed": true
   },
   "outputs": [],
   "source": [
    "sq_function = theano.function(inputs=[N], outputs=result)\n",
    "gr_function = theano.function(inputs=[N], outputs=grad_result)"
   ]
  },
  {
   "cell_type": "markdown",
   "metadata": {},
   "source": [
    "#### применение функции"
   ]
  },
  {
   "cell_type": "code",
   "execution_count": 10,
   "metadata": {
    "collapsed": true
   },
   "outputs": [],
   "source": [
    "# Заводим np.array x\n",
    "xv = np.arange(-10, 10)\n",
    "\n",
    "# Применяем функцию к каждому x\n",
    "val = map(float, [sq_function(x) for x in xv])\n",
    "\n",
    "# Посичтаем градиент в кажой точке\n",
    "grad = map(float, [gr_function(x) for x in xv])"
   ]
  },
  {
   "cell_type": "markdown",
   "metadata": {},
   "source": [
    "### Что мы увидим если нарисуем функцию и градиент?"
   ]
  },
  {
   "cell_type": "code",
   "execution_count": 11,
   "metadata": {},
   "outputs": [
    {
     "data": {
      "text/plain": [
       "<matplotlib.legend.Legend at 0x101a4f2d0>"
      ]
     },
     "execution_count": 11,
     "metadata": {},
     "output_type": "execute_result"
    },
    {
     "data": {
      "image/png": "[encoded data removed]",
      "text/plain": [
       "<matplotlib.figure.Figure at 0x10bb6fc10>"
      ]
     },
     "metadata": {},
     "output_type": "display_data"
    }
   ],
   "source": [
    "pylab.plot(xv, val, label='x*x')\n",
    "pylab.plot(xv, grad, label='d x*x / dx')\n",
    "pylab.legend()"
   ]
  },
  {
   "cell_type": "markdown",
   "metadata": {},
   "source": [
    "<h1 align=\"center\">Lasagne</h1>\n",
    "\n",
    "* lasagne - это библиотека для написания нейронок произвольной формы на theano\n",
    "* В качестве демо-задачи выберем то же распознавание чисел, но на большем масштабе задачи, картинки 28x28, 10 цифр"
   ]
  },
  {
   "cell_type": "code",
   "execution_count": 13,
   "metadata": {},
   "outputs": [
    {
     "name": "stdout",
     "output_type": "stream",
     "text": [
      "Downloading train-images-idx3-ubyte.gz\n",
      "Downloading train-labels-idx1-ubyte.gz\n",
      "Downloading t10k-images-idx3-ubyte.gz\n",
      "Downloading t10k-labels-idx1-ubyte.gz\n",
      "X размера (50000, 1, 28, 28) y размера (50000,)\n"
     ]
    }
   ],
   "source": [
    "from mnist import load_dataset\n",
    "X_train, y_train, X_val, y_val, X_test, y_test = load_dataset()\n",
    "\n",
    "print('X размера', X_train.shape, 'y размера', y_train.shape)"
   ]
  },
  {
   "cell_type": "code",
   "execution_count": 14,
   "metadata": {},
   "outputs": [
    {
     "data": {
      "image/png": "[encoded data removed]",
      "text/plain": [
       "<matplotlib.figure.Figure at 0x10bcb9bd0>"
      ]
     },
     "metadata": {},
     "output_type": "display_data"
    }
   ],
   "source": [
    "fig, axes = plt.subplots(nrows=1, ncols=7, figsize=(20, 20))\n",
    "\n",
    "for i, ax in enumerate(axes):\n",
    "    ax.imshow(X_train[i, 0], cmap='gray')"
   ]
  },
  {
   "cell_type": "markdown",
   "metadata": {},
   "source": [
    "Давайте посмотрим на DenseLayer в lasagne\n",
    "- http://lasagne.readthedocs.io/en/latest/modules/layers/dense.html\n",
    "- https://github.com/Lasagne/Lasagne/blob/master/lasagne/layers/dense.py#L16-L124 \n",
    "- Весь содаржательный код тут https://github.com/Lasagne/Lasagne/blob/master/lasagne/layers/dense.py#L121 "
   ]
  },
  {
   "cell_type": "code",
   "execution_count": 15,
   "metadata": {
    "collapsed": true
   },
   "outputs": [],
   "source": [
    "import lasagne\n",
    "from lasagne import init\n",
    "from theano import tensor as T\n",
    "from lasagne.nonlinearities import softmax\n",
    "\n",
    "X, y = T.tensor4('X'), T.vector('y', 'int32')"
   ]
  },
  {
   "cell_type": "markdown",
   "metadata": {},
   "source": [
    "Так задаётся архитектура нейронки"
   ]
  },
  {
   "cell_type": "code",
   "execution_count": 157,
   "metadata": {
    "collapsed": true
   },
   "outputs": [],
   "source": [
    "#входной слой (вспомогательный)\n",
    "net = lasagne.layers.InputLayer(shape=(None, 1, 28, 28), input_var=X)\n",
    "\n",
    "net = lasagne.layers.Conv2DLayer(net, 15, 4, pad='valid') # сверточный слой\n",
    "net = lasagne.layers.Conv2DLayer(net, 10,  2, pad='full')  # сверточный слой\n",
    "\n",
    "net = lasagne.layers.DenseLayer(net, num_units=500) # полносвязный слой\n",
    "net = lasagne.layers.DropoutLayer(net, p=.5)         # регуляризатор\n",
    "\n",
    "net = lasagne.layers.DenseLayer(net, num_units=200) # полносвязный слой\n",
    "\n",
    "net = lasagne.layers.DenseLayer(net, num_units=10, nonlinearity=softmax)  # полносвязный слой"
   ]
  },
  {
   "cell_type": "code",
   "execution_count": 158,
   "metadata": {
    "collapsed": true
   },
   "outputs": [],
   "source": [
    "#предсказание нейронки (theano-преобразование)\n",
    "y_predicted = lasagne.layers.get_output(net)"
   ]
  },
  {
   "cell_type": "code",
   "execution_count": 159,
   "metadata": {},
   "outputs": [
    {
     "name": "stdout",
     "output_type": "stream",
     "text": [
      "[W, b, W, b, W, b, W, b, W, b]\n"
     ]
    }
   ],
   "source": [
    "#все веса нейронки (shared-переменные)\n",
    "all_weights = lasagne.layers.get_all_params(net)\n",
    "print(all_weights)"
   ]
  },
  {
   "cell_type": "code",
   "execution_count": 160,
   "metadata": {
    "collapsed": true
   },
   "outputs": [],
   "source": [
    "#функция ошибки и точности будет прямо внутри\n",
    "loss = lasagne.objectives.categorical_crossentropy(y_predicted, y).mean()\n",
    "accuracy = lasagne.objectives.categorical_accuracy(y_predicted, y).mean()"
   ]
  },
  {
   "cell_type": "code",
   "execution_count": 161,
   "metadata": {
    "collapsed": true
   },
   "outputs": [],
   "source": [
    "#сразу посчитать словарь обновлённых значений с шагом по градиенту, как раньше\n",
    "updates = lasagne.updates.momentum(loss, all_weights, learning_rate=1e-3, momentum=.9)"
   ]
  },
  {
   "cell_type": "code",
   "execution_count": 162,
   "metadata": {
    "collapsed": true
   },
   "outputs": [],
   "source": [
    "#функция, делает updates и возвращащет значение функции потерь и точности\n",
    "train_fun = theano.function([X, y], [loss, accuracy], updates=updates)\n",
    "accuracy_fun = theano.function([X, y], accuracy) # точность без обновления весов, для теста"
   ]
  },
  {
   "cell_type": "markdown",
   "metadata": {},
   "source": [
    "# Процесс обучения"
   ]
  },
  {
   "cell_type": "code",
   "execution_count": 167,
   "metadata": {
    "code_folding": [],
    "scrolled": false
   },
   "outputs": [
    {
     "name": "stdout",
     "output_type": "stream",
     "text": [
      "Epoch 1 of 5 took 49.883 s\n",
      " train loss:\t 0.089\n",
      " train  acc:\t 97.274 %\n",
      " test   acc:\t 96.990 %\n",
      " \n",
      "Epoch 2 of 5 took 49.440 s\n",
      " train loss:\t 0.085\n",
      " train  acc:\t 97.372 %\n",
      " test   acc:\t 96.950 %\n",
      " \n",
      "Epoch 3 of 5 took 46.799 s\n",
      " train loss:\t 0.081\n",
      " train  acc:\t 97.522 %\n",
      " test   acc:\t 97.060 %\n",
      " \n",
      "Epoch 4 of 5 took 47.493 s\n",
      " train loss:\t 0.082\n",
      " train  acc:\t 97.422 %\n",
      " test   acc:\t 97.080 %\n",
      " \n",
      "Epoch 5 of 5 took 51.219 s\n",
      " train loss:\t 0.078\n",
      " train  acc:\t 97.534 %\n",
      " test   acc:\t 97.260 %\n",
      " \n"
     ]
    }
   ],
   "source": [
    "import time \n",
    "from mnist import iterate_minibatches\n",
    "\n",
    "num_epochs = 5  #количество проходов по данным\n",
    "batch_size = 500 #размер мини-батча\n",
    "\n",
    "for epoch in range(num_epochs):\n",
    "    train_err, train_acc, train_batches, start_time = 0, 0, 0, time.time()\n",
    "    for inputs, targets in iterate_minibatches(X_train, y_train, batch_size):\n",
    "        train_err_batch, train_acc_batch = train_fun(inputs, targets)\n",
    "        train_err += train_err_batch\n",
    "        train_acc += train_acc_batch\n",
    "        train_batches += 1\n",
    "\n",
    "    val_acc, val_batches = 0, 0\n",
    "    for inputs, targets in iterate_minibatches(X_test, y_test, batch_size):\n",
    "        val_acc += accuracy_fun(inputs, targets)\n",
    "        val_batches += 1\n",
    "\n",
    "    \n",
    "    print(\"Epoch %s of %s took %.3f s\" % (epoch + 1, num_epochs, time.time() - start_time))\n",
    "    print(\" train loss:\\t %.3f\"  % (train_err / train_batches))\n",
    "    print(\" train  acc:\\t %.3f\" % (train_acc * 100 / train_batches), '%')\n",
    "    print(\" test   acc:\\t %.3f\"  % (val_acc  * 100 / val_batches), '%')\n",
    "    print(\" \")"
   ]
  },
  {
   "cell_type": "code",
   "execution_count": 168,
   "metadata": {},
   "outputs": [
    {
     "name": "stdout",
     "output_type": "stream",
     "text": [
      "Final results: \n",
      " test accuracy:\t\t97.16 %\n"
     ]
    }
   ],
   "source": [
    "test_acc = 0\n",
    "test_batches = 0\n",
    "for batch in iterate_minibatches(X_test, y_test, 500):\n",
    "    inputs, targets = batch\n",
    "    acc = accuracy_fun(inputs, targets)\n",
    "    test_acc += acc\n",
    "    test_batches += 1\n",
    "print(\"Final results: \\n test accuracy:\\t\\t{:.2f} %\".format(test_acc / test_batches * 100))"
   ]
  },
  {
   "cell_type": "markdown",
   "metadata": {},
   "source": [
    "# Ансамблирование с DropOut"
   ]
  },
  {
   "cell_type": "code",
   "execution_count": 169,
   "metadata": {
    "collapsed": true
   },
   "outputs": [],
   "source": [
    "#предсказание нейронки (theano-преобразование)\n",
    "y_predicted = T.mean([lasagne.layers.get_output(net, deterministic=False) for i in range(10)], axis=0)\n",
    "accuracy = lasagne.objectives.categorical_accuracy(y_predicted, y).mean()\n",
    "accuracy_fun = theano.function([X, y], accuracy) # точность без обновления весов, для теста"
   ]
  },
  {
   "cell_type": "code",
   "execution_count": 170,
   "metadata": {},
   "outputs": [
    {
     "name": "stdout",
     "output_type": "stream",
     "text": [
      "Final results: \n",
      " test accuracy:\t\t97.96 %\n"
     ]
    }
   ],
   "source": [
    "test_acc = 0\n",
    "test_batches = 0\n",
    "for batch in iterate_minibatches(X_test, y_test, 500):\n",
    "    inputs, targets = batch\n",
    "    acc = accuracy_fun(inputs, targets)\n",
    "    test_acc += acc\n",
    "    test_batches += 1\n",
    "print(\"Final results: \\n test accuracy:\\t\\t{:.2f} %\".format(test_acc / test_batches * 100))"
   ]
  }
 ],
 "metadata": {
  "anaconda-cloud": {},
  "kernelspec": {
   "display_name": "Python 3",
   "language": "python",
   "name": "python3"
  },
  "language_info": {
   "codemirror_mode": {
    "name": "ipython",
    "version": 3
   },
   "file_extension": ".py",
   "mimetype": "text/x-python",
   "name": "python",
   "nbconvert_exporter": "python",
   "pygments_lexer": "ipython3",
   "version": "3.6.1"
  },
  "varInspector": {
   "cols": {
    "lenName": 16,
    "lenType": 16,
    "lenVar": 40
   },
   "kernels_config": {
    "python": {
     "delete_cmd_postfix": "",
     "delete_cmd_prefix": "del ",
     "library": "var_list.py",
     "varRefreshCmd": "print(var_dic_list())"
    },
    "r": {
     "delete_cmd_postfix": ") ",
     "delete_cmd_prefix": "rm(",
     "library": "var_list.r",
     "varRefreshCmd": "cat(var_dic_list()) "
    }
   },
   "types_to_exclude": [
    "module",
    "function",
    "builtin_function_or_method",
    "instance",
    "_Feature"
   ],
   "window_display": false
  }
 },
 "nbformat": 4,
 "nbformat_minor": 1
}
